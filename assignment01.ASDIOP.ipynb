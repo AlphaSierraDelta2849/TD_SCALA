{
 "cells": [
  {
   "cell_type": "code",
   "execution_count": null,
   "id": "a1edabea",
   "metadata": {},
   "outputs": [],
   "source": [
    "def pgcd1(a: Int, b: Int): Int = {\n",
    "  if (b > a) return pgcd1(a, b - a)\n",
    "  else if (b < a) return pgcd1(a - b, b)\n",
    "  b\n",
    "}\n",
    "def pgcd2(a: Int, b: Int): Int = {\n",
    "  if (b==0) a\n",
    "  else pgcd2(b,a%b)\n",
    "}\n",
    "print(pgcd1(28,313))\n",
    "print(pgcd1(63,40))\n",
    "print(pgcd2(28,313))\n",
    "print(pgcd1(63,40))\n",
    "\n",
    "\n",
    "def fibonacci(n: Int): Int = {\n",
    "  if(n<=1) return 1\n",
    "  else return fibonacci(n-1)+fibonacci(n-2)\n",
    "}\n",
    "print(fibonacci(5))\n",
    "\n",
    "print(fibonacci(0))\n",
    "print(fibonacci(1))\n",
    "print(fibonacci(28))\n",
    "print(fibonacci(40))\n",
    "print(fibonacci(63))\n",
    "print(fibonacci(313))"
   ]
  }
 ],
 "metadata": {
  "kernelspec": {
   "display_name": "Python 3 (ipykernel)",
   "language": "python",
   "name": "python3"
  },
  "language_info": {
   "codemirror_mode": {
    "name": "ipython",
    "version": 3
   },
   "file_extension": ".py",
   "mimetype": "text/x-python",
   "name": "python",
   "nbconvert_exporter": "python",
   "pygments_lexer": "ipython3",
   "version": "3.10.9"
  }
 },
 "nbformat": 4,
 "nbformat_minor": 5
}
